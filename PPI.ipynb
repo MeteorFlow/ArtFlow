{
 "cells": [
  {
   "cell_type": "code",
   "execution_count": 23,
   "metadata": {},
   "outputs": [],
   "source": [
    "import os\n",
    "import pyart\n",
    "import matplotlib.pyplot as plt\n",
    "import shutil\n",
    "import cartopy.crs as ccrs\n",
    "\n",
    "\n",
    "# Define the root directory where UF radar data files are located\n",
    "root_directory = './UF'\n",
    "\n",
    "# Define the output directory for PNG files\n",
    "output_directory = './radar_png'\n",
    "\n",
    "topics = {\n",
    "    'reflectivity': 'Reflectivity (dBZ)',\n",
    "    # 'corrected_reflectivity': 'Corrected Reflectivity (dBZ)',\n",
    "    # 'mean_doppler_velocity': 'Mean Doppler Velocity (m/s)',\n",
    "    'corrected_velocity': 'Corrected Velocity (m/s)',\n",
    "    'velocity': 'Velocity (m/s)',\n",
    "}"
   ]
  },
  {
   "cell_type": "code",
   "execution_count": 31,
   "metadata": {},
   "outputs": [],
   "source": [
    "\n",
    "def process_uf_file(file_path, topic='reflectivity', title='Reflectivity (dBZ)', output_directory=output_directory, root_directory=root_directory, limit=300, interval=50):\n",
    "    try:    \n",
    "        # Create the output directory if it doesn't exist\n",
    "        os.makedirs(output_directory, exist_ok=True)\n",
    "\n",
    "        # Set the projection - in this case, we use a general PlateCarree projection\n",
    "        # projection = ccrs.PlateCarree()     \n",
    "\n",
    "        # Load the radar data from the UF file\n",
    "        radar = pyart.io.read(file_path)\n",
    "\n",
    "        # Create a display object for the radar data\n",
    "        display = pyart.graph.RadarDisplay(radar)\n",
    "\n",
    "        # Plot reflectivity data\n",
    "        fig = plt.figure(figsize=[10, 8])\n",
    "        ax = fig.add_subplot(111)\n",
    "        display.plot_ppi(topic, 0, ax=ax, title=title)\n",
    "        display.set_limits(xlim=(-limit, limit), ylim=(-limit, limit), ax=ax)\n",
    "\n",
    "        # Display range rings at 50-km intervals\n",
    "        display.plot_range_rings([num for num in range(interval, limit+1, interval)])\n",
    "\n",
    "        # Export the plot as an image file to the output directory\n",
    "        output_filename = os.path.join(output_directory, os.path.basename(file_path).replace('.uf', '.png'))\n",
    "        plt.savefig(output_filename, dpi=100)\n",
    "        plt.close()\n",
    "\n",
    "        print(f'Processed: {file_path}')\n",
    "    except Exception as e:\n",
    "        print(f'Error processing {file_path}: {str(e)}')"
   ]
  },
  {
   "cell_type": "code",
   "execution_count": null,
   "metadata": {},
   "outputs": [],
   "source": [
    "# Delete any existing PNG files in the output directory\n",
    "[shutil.rmtree(f'./{topic}_png') for (topic, title) in topics.items() if os.path.isdir(f'./{topic}_png')]"
   ]
  },
  {
   "cell_type": "code",
   "execution_count": null,
   "metadata": {},
   "outputs": [],
   "source": [
    "\n",
    "# Recursively traverse the directory and its subdirectories\n",
    "for root, dirs, files in os.walk(root_directory):\n",
    "    for file in files:\n",
    "        if file.endswith('.uf') is False:\n",
    "            continue\n",
    "\n",
    "        file_path = os.path.join(root, file)\n",
    "        [process_uf_file(file_path, output_directory=f'./{topic}_png', topic=topic, title=title) for (topic, title) in topics.items()]\n",
    "\n",
    "print(f'PNG files exported to: {output_directory}')"
   ]
  },
  {
   "cell_type": "code",
   "execution_count": null,
   "metadata": {},
   "outputs": [],
   "source": []
  }
 ],
 "metadata": {
  "kernelspec": {
   "display_name": "pyart_env",
   "language": "python",
   "name": "python3"
  },
  "language_info": {
   "codemirror_mode": {
    "name": "ipython",
    "version": 3
   },
   "file_extension": ".py",
   "mimetype": "text/x-python",
   "name": "python",
   "nbconvert_exporter": "python",
   "pygments_lexer": "ipython3",
   "version": "3.11.6"
  }
 },
 "nbformat": 4,
 "nbformat_minor": 2
}
